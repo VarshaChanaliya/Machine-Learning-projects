{
 "cells": [
  {
   "cell_type": "markdown",
   "metadata": {},
   "source": [
    "# Setting up environment"
   ]
  },
  {
   "cell_type": "code",
   "execution_count": 335,
   "metadata": {},
   "outputs": [],
   "source": [
    "import numpy as np\n",
    "import pandas as pd\n",
    "from nsepy import get_history\n",
    "from datetime import date\n",
    "import matplotlib.pyplot as plt\n",
    "%matplotlib inline"
   ]
  },
  {
   "cell_type": "markdown",
   "metadata": {},
   "source": [
    "# Getting data using NSEpy"
   ]
  },
  {
   "cell_type": "code",
   "execution_count": 336,
   "metadata": {},
   "outputs": [],
   "source": [
    "tcs = get_history(symbol=\"TCS\", start=date(2015,1,1), end=date(2016,12,31))\n",
    "infy = get_history(symbol=\"INFY\", start=date(2015,1,1), end=date(2016,12,31))\n",
    "nifty = get_history(symbol=\"NIFTY IT\", start=date(2015,1,1), end=date(2016,12,31),index=True)"
   ]
  },
  {
   "cell_type": "code",
   "execution_count": null,
   "metadata": {},
   "outputs": [],
   "source": []
  },
  {
   "cell_type": "markdown",
   "metadata": {},
   "source": [
    "# Fetching needed data"
   ]
  },
  {
   "cell_type": "code",
   "execution_count": 337,
   "metadata": {},
   "outputs": [],
   "source": [
    "tcs_close = pd.DataFrame(tcs.Close)\n",
    "infy_close = pd.DataFrame(infy.Close)\n",
    "nifty_close = pd.DataFrame(nifty.Close)"
   ]
  },
  {
   "cell_type": "markdown",
   "metadata": {},
   "source": [
    "# Function to calclulate MA for 4,16...52 weeks "
   ]
  },
  {
   "cell_type": "code",
   "execution_count": 345,
   "metadata": {},
   "outputs": [],
   "source": [
    "weeks = [28,112,196,280,364]\n",
    "MA_tcs = {}\n",
    "MA_infy = {}\n",
    "MA_nifty = {}\n",
    "for i in range(5):\n",
    "    MA_tcs[i] = movingaverage(tcs_close.Close,weeks[i])\n",
    "    MA_infy[i] = movingaverage(infy_close.Close,weeks[i])\n",
    "    MA_nifty[i] = movingaverage(nifty_close.Close,weeks[i])\n",
    "    \n",
    "  \n",
    "   "
   ]
  },
  {
   "cell_type": "code",
   "execution_count": 338,
   "metadata": {},
   "outputs": [],
   "source": [
    "def movingaverage(values, window):\n",
    "    weights = np.repeat(1.0,window)/window\n",
    "    MA = np.convolve(values,weights)\n",
    "    return MA"
   ]
  },
  {
   "cell_type": "markdown",
   "metadata": {},
   "source": []
  },
  {
   "cell_type": "markdown",
   "metadata": {},
   "source": [
    "# Funtion to calculate MA with unequal time series due to stock market holidays"
   ]
  },
  {
   "cell_type": "code",
   "execution_count": 340,
   "metadata": {},
   "outputs": [],
   "source": [
    "def rollingwindow(values,w):\n",
    "    SMA = values.rolling(w).mean().shift()\n",
    "    return SMA\n",
    "    "
   ]
  },
  {
   "cell_type": "code",
   "execution_count": 344,
   "metadata": {},
   "outputs": [
    {
     "data": {
      "image/png": "[encoded data removed]",
      "text/plain": [
       "<Figure size 432x288 with 1 Axes>"
      ]
     },
     "metadata": {
      "needs_background": "light"
     },
     "output_type": "display_data"
    }
   ],
   "source": [
    "\n",
    "tcs_close[\"MA_10\"] = rollingwindow(tcs_close.Close,10)\n",
    "infy_close[\"MA_10\"] = rollingwindow(infy_close.Close,10)\n",
    "nifty_close[\"MA_10\"] = rollingwindow(nifty_close.Close,10) \n",
    "plt.plot(tcs_close[\"MA_10\"], color = \"red\", label = 'TCS')\n",
    "plt.plot(infy_close[\"MA_10\"], color = \"green\", label = 'INFY')\n",
    "plt.plot(nifty_close[\"MA_10\"], color = \"blue\", label = 'NIFTY')\n",
    "plt.xlabel('Dates')\n",
    "plt.ylabel('Moving Average_RW=10')\n",
    "plt.title('Simple Moving Averages')\n",
    "plt.legend()\n",
    "plt.show()"
   ]
  },
  {
   "cell_type": "code",
   "execution_count": null,
   "metadata": {},
   "outputs": [],
   "source": []
  },
  {
   "cell_type": "code",
   "execution_count": null,
   "metadata": {},
   "outputs": [],
   "source": []
  },
  {
   "cell_type": "code",
   "execution_count": null,
   "metadata": {},
   "outputs": [],
   "source": []
  },
  {
   "cell_type": "code",
   "execution_count": null,
   "metadata": {},
   "outputs": [],
   "source": []
  },
  {
   "cell_type": "code",
   "execution_count": null,
   "metadata": {},
   "outputs": [],
   "source": []
  },
  {
   "cell_type": "code",
   "execution_count": null,
   "metadata": {},
   "outputs": [],
   "source": []
  }
 ],
 "metadata": {
  "kernelspec": {
   "display_name": "Python 3",
   "language": "python",
   "name": "python3"
  },
  "language_info": {
   "codemirror_mode": {
    "name": "ipython",
    "version": 3
   },
   "file_extension": ".py",
   "mimetype": "text/x-python",
   "name": "python",
   "nbconvert_exporter": "python",
   "pygments_lexer": "ipython3",
   "version": "3.7.0"
  }
 },
 "nbformat": 4,
 "nbformat_minor": 2
}
